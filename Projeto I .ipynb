{
 "cells": [
  {
   "cell_type": "markdown",
   "id": "87ce2770",
   "metadata": {},
   "source": [
    "<div class=\"alert alert-block alert-info\">\n",
    "<center>PROJETO I</center>\n",
    "<center>ALUNO: Emilieny De Souza Silva</center>\n",
    "</div>"
   ]
  },
  {
   "cell_type": "code",
   "execution_count": null,
   "id": "d5b23c5e",
   "metadata": {},
   "outputs": [],
   "source": [
    "import numpy as np\n",
    "import pandas as pd\n",
    "import datetime as dt"
   ]
  },
  {
   "cell_type": "markdown",
   "id": "a235b918",
   "metadata": {},
   "source": [
    "<div class=\"alert alert-block alert-info\">\n",
    "TAREFA 1   \n",
    "</div>"
   ]
  },
  {
   "cell_type": "code",
   "execution_count": null,
   "id": "d308069c",
   "metadata": {
    "scrolled": true
   },
   "outputs": [],
   "source": [
    "\n",
    "df2018 = pd.read_csv(\"https://arquivos.prf.gov.br/arquivos/index.php/s/MaC6cieXSFACNWT/download\", compression='zip', encoding = 'latin1', sep=';')\n",
    "df2019 = pd.read_csv(\"https://arquivos.prf.gov.br/arquivos/index.php/s/kRBUylqz6DyQznN/download\", compression='zip', encoding = 'latin1', sep=';')\n",
    "df2020 = pd.read_csv(\"https://arquivos.prf.gov.br/arquivos/index.php/s/jdDLrQIf33xXSCe/download\", compression='zip', encoding = 'latin1', sep=';')\n",
    "df2021 = pd.read_csv(\"https://arquivos.prf.gov.br/arquivos/index.php/s/n1T3lymvIdDOzzb/download\", compression='zip', encoding = 'latin1', sep=';')\n",
    "\n",
    "todos_anos = pd.concat([df2018, df2019, df2020, df2021], ignore_index=True)"
   ]
  },
  {
   "cell_type": "markdown",
   "id": "5bf0fd48",
   "metadata": {},
   "source": [
    "**Sim, através do comando .read_csv(), que lê os dados diretamente do site, com a ajuda dos parametros compression, encoding e sep.**"
   ]
  },
  {
   "cell_type": "markdown",
   "id": "1e7938de",
   "metadata": {},
   "source": [
    "<div class=\"alert alert-block alert-info\">\n",
    "TAREFA 2\n",
    "</div>"
   ]
  },
  {
   "cell_type": "markdown",
   "id": "4fd814e8",
   "metadata": {},
   "source": [
    "<div class=\"alert alert-block alert-info\">\n",
    "Letra A\n",
    "</div>"
   ]
  },
  {
   "cell_type": "code",
   "execution_count": null,
   "id": "d42abb63",
   "metadata": {},
   "outputs": [],
   "source": [
    "acidentes2018 = len(df2018[\"id\"])\n",
    "acidentes2019 = len(df2019[\"id\"])\n",
    "acidentes2020 = len(df2020[\"id\"])\n",
    "acidentes2021 = len(df2021[\"id\"])"
   ]
  },
  {
   "cell_type": "markdown",
   "id": "177e8451",
   "metadata": {},
   "source": [
    "**Em 2018 aconteceram 69295 acidentes**"
   ]
  },
  {
   "cell_type": "markdown",
   "id": "5795e0d1",
   "metadata": {},
   "source": [
    "**Em 2019 aconteceram 67446 acidentes**"
   ]
  },
  {
   "cell_type": "markdown",
   "id": "4fab7b4e",
   "metadata": {},
   "source": [
    "**Em 2020 aconteceram 63548 acidentes**"
   ]
  },
  {
   "cell_type": "markdown",
   "id": "7ffb6abe",
   "metadata": {},
   "source": [
    "**Em 2021 aconteceram 64515 acidentes**"
   ]
  },
  {
   "cell_type": "markdown",
   "id": "1e7886ab",
   "metadata": {},
   "source": [
    "<div class=\"alert alert-block alert-info\">\n",
    "Letra B\n",
    "</div>"
   ]
  },
  {
   "cell_type": "code",
   "execution_count": null,
   "id": "18a3634a",
   "metadata": {},
   "outputs": [],
   "source": [
    "todos_anos"
   ]
  },
  {
   "cell_type": "markdown",
   "id": "2f00c51d",
   "metadata": {},
   "source": [
    "**Como existem 30 colunas, então existem 30 variáveis.**"
   ]
  },
  {
   "cell_type": "markdown",
   "id": "d9481bcb",
   "metadata": {},
   "source": [
    "<div class=\"alert alert-block alert-info\">\n",
    "Letra C\n",
    "</div>"
   ]
  },
  {
   "cell_type": "code",
   "execution_count": null,
   "id": "40981286",
   "metadata": {},
   "outputs": [],
   "source": [
    "ocorrencias = df2018.groupby([\"municipio\"]).size()\n",
    "ocorrencias2018 = pd.DataFrame(data = ocorrencias)\n",
    "ocorrencias2018[\"ocorrencias\"] = ocorrencias2018\n",
    "del ocorrencias2018[0]\n",
    "ocorrencias2018.sort_values(by = \"ocorrencias\", ascending = False)"
   ]
  },
  {
   "cell_type": "markdown",
   "id": "e6fc99f1",
   "metadata": {},
   "source": [
    "**As cinco cidades brasileiras onde mais ocorreram acidentes em rodovias federais em 2018 foram respectivamente: Curitiba, São Jose, Brasília, Guarulhos e Palhoca.**"
   ]
  },
  {
   "cell_type": "code",
   "execution_count": null,
   "id": "21c01a3d",
   "metadata": {},
   "outputs": [],
   "source": [
    "ocorrencias = df2019.groupby([\"municipio\"]).size()\n",
    "ocorrencias2019 = pd.DataFrame(data = ocorrencias)\n",
    "ocorrencias2019[\"ocorrencias\"] = ocorrencias2019\n",
    "del ocorrencias2019[0]\n",
    "ocorrencias2019.sort_values(by = \"ocorrencias\", ascending = False)"
   ]
  },
  {
   "cell_type": "markdown",
   "id": "e78e2277",
   "metadata": {},
   "source": [
    "**As cinco cidades brasileiras onde mais ocorreram acidentes em rodovias federais em 2019 foram respectivamente: Curitiba, Brasília, São Jose, Guarulhos e Serra.**"
   ]
  },
  {
   "cell_type": "code",
   "execution_count": null,
   "id": "a0704275",
   "metadata": {},
   "outputs": [],
   "source": [
    "ocorrencias = df2020.groupby([\"municipio\"]).size()\n",
    "ocorrencias2020 = pd.DataFrame(data = ocorrencias)\n",
    "ocorrencias2020[\"ocorrencias\"] = ocorrencias2020\n",
    "del ocorrencias2020[0]\n",
    "ocorrencias2020.sort_values(by = \"ocorrencias\", ascending = False)"
   ]
  },
  {
   "cell_type": "markdown",
   "id": "299d930b",
   "metadata": {},
   "source": [
    "**As cinco cidades brasileiras onde mais ocorreram acidentes em rodovias federais em 2020 foram respectivamente: Brasília, Curitiba, Guarulhos, São Jose e Palhoca.**"
   ]
  },
  {
   "cell_type": "code",
   "execution_count": null,
   "id": "6e2ea23d",
   "metadata": {},
   "outputs": [],
   "source": [
    "ocorrencias = df2021.groupby([\"municipio\"]).size()\n",
    "ocorrencias2021 = pd.DataFrame(data = ocorrencias)\n",
    "ocorrencias2021[\"ocorrencias\"] = ocorrencias2021\n",
    "del ocorrencias2021[0]\n",
    "ocorrencias2021.sort_values(by = \"ocorrencias\", ascending = False)"
   ]
  },
  {
   "cell_type": "markdown",
   "id": "fdb241ea",
   "metadata": {},
   "source": [
    "**As cinco cidades brasileiras onde mais ocorreram acidentes em rodovias federais em 2021 foram respectivamente: Brasília, Curitiba, São Jose, Guarulhos e Palhoca.**"
   ]
  },
  {
   "cell_type": "code",
   "execution_count": null,
   "id": "4454a9a2",
   "metadata": {},
   "outputs": [],
   "source": [
    "ocorrencias = todos_anos.groupby([\"municipio\"]).size()\n",
    "ocorrencias_todos_anos = pd.DataFrame(data = ocorrencias)\n",
    "ocorrencias_todos_anos[\"ocorrencias\"] = ocorrencias_todos_anos\n",
    "del ocorrencias_todos_anos[0]\n",
    "ocorrencias_todos_anos.sort_values(by = \"ocorrencias\", ascending = False)"
   ]
  },
  {
   "cell_type": "markdown",
   "id": "3e6840e1",
   "metadata": {},
   "source": [
    "**E por fim, as cinco cidades brasileiras onde mais ocorreram acidentes em rodovias federais durante os anos de 2018, 2019, 2020 e 2021 foram respectivamente: Brasília, Curitiba, São Jose, Guarulhos e Palhoca.**"
   ]
  },
  {
   "cell_type": "markdown",
   "id": "35a7ee21",
   "metadata": {},
   "source": [
    "<div class=\"alert alert-block alert-info\">\n",
    "Letra D\n",
    "</div>"
   ]
  },
  {
   "cell_type": "code",
   "execution_count": null,
   "id": "083bb122",
   "metadata": {},
   "outputs": [],
   "source": [
    "feridos_PB_2019 = df2019[(df2019.feridos_graves > 0) & (df2019.uf == \"PB\")]\n",
    "\n",
    "len(feridos_PB_2019)"
   ]
  },
  {
   "cell_type": "markdown",
   "id": "92a1e5e7",
   "metadata": {},
   "source": [
    "**Aconteceram 414 acidentes na Paraíba em 2019.**"
   ]
  },
  {
   "cell_type": "markdown",
   "id": "31de2332",
   "metadata": {},
   "source": [
    "<div class=\"alert alert-block alert-info\">\n",
    "TAREFA 3\n",
    "</div>"
   ]
  },
  {
   "cell_type": "markdown",
   "id": "88e6e8e9",
   "metadata": {},
   "source": [
    "<div class=\"alert alert-block alert-info\">\n",
    "Letra A\n",
    "</div>"
   ]
  },
  {
   "cell_type": "code",
   "execution_count": null,
   "id": "6929469d",
   "metadata": {},
   "outputs": [],
   "source": [
    "ranking_estado = todos_anos.groupby([\"uf\"]).size()\n",
    "ranking_estado = ranking_estado.reset_index().rename(columns = {0: \"Acidentes\", \"uf\": \"UF\"})\n",
    "ranking_estado = ranking_estado.sort_values(by = \"Acidentes\", ascending = False, ignore_index = True)\n",
    "ranking_estado.index = np.arange(1, len(ranking_estado)+1)\n",
    "ranking_estado.to_csv(\"ranking_acidentes_por_estado.csv\")\n",
    "ranking_estado\n"
   ]
  },
  {
   "cell_type": "markdown",
   "id": "d8e2381a",
   "metadata": {},
   "source": [
    "<div class=\"alert alert-block alert-info\">\n",
    "Letra B\n",
    "</div>"
   ]
  },
  {
   "cell_type": "code",
   "execution_count": null,
   "id": "25a77840",
   "metadata": {},
   "outputs": [],
   "source": [
    "ranking_dia = todos_anos.groupby([\"dia_semana\"]).size()\n",
    "ranking_dia = ranking_dia.reset_index().rename(columns = {0: \"Acidentes\", \"dia_semana\": \"Dia\"})\n",
    "ranking_dia = ranking_dia.sort_values(by = \"Acidentes\", ascending = False, ignore_index = True)\n",
    "ranking_dia.index = np.arange(1, len(ranking_dia)+1)\n",
    "ranking_dia.to_csv(\"ranking_acidentes_por_dia.csv\")\n",
    "ranking_dia"
   ]
  },
  {
   "cell_type": "markdown",
   "id": "4784e76a",
   "metadata": {},
   "source": [
    "<div class=\"alert alert-block alert-info\">\n",
    "TAREFA 4\n",
    "</div>"
   ]
  },
  {
   "cell_type": "markdown",
   "id": "ac945be3",
   "metadata": {},
   "source": [
    "<div class=\"alert alert-block alert-info\">\n",
    "Letra A\n",
    "</div>"
   ]
  },
  {
   "cell_type": "code",
   "execution_count": null,
   "id": "5658d70a",
   "metadata": {},
   "outputs": [],
   "source": [
    "causas = todos_anos.groupby([\"causa_acidente\"]).size()\n",
    "causas = causas.reset_index().rename(columns = {0: \"Quantidade\", \"causa_acidente\": \"Causa\"})\n",
    "causas = causas.sort_values(by = \"Quantidade\", ascending = False)\n",
    "causas.index = np.arange(1, len(causas)+1)"
   ]
  },
  {
   "cell_type": "code",
   "execution_count": null,
   "id": "fb644056",
   "metadata": {},
   "outputs": [],
   "source": [
    "causas"
   ]
  },
  {
   "cell_type": "markdown",
   "id": "cc68ad2f",
   "metadata": {},
   "source": [
    "**Como podemos ver no DataFrame, a causa mais frenquente de acidentes é Falta de atenção à condução, e a causa mais rara é a Sinalização encoberta.**"
   ]
  },
  {
   "cell_type": "markdown",
   "id": "2ab47139",
   "metadata": {},
   "source": [
    "<div class=\"alert alert-block alert-info\">\n",
    "Letra B\n",
    "</div>"
   ]
  },
  {
   "cell_type": "markdown",
   "id": "bcc64813",
   "metadata": {},
   "source": [
    "**2018**"
   ]
  },
  {
   "cell_type": "code",
   "execution_count": null,
   "id": "5276244a",
   "metadata": {},
   "outputs": [],
   "source": [
    "df2018[\"Mês\"] = pd.to_datetime(df2018[\"data_inversa\"]).dt.month\n",
    "mes2018 = df2018.loc[:, [\"Mês\", \"pessoas\", \"ilesos\", \"feridos_graves\"]]\n",
    "soma = mes2018.groupby(by = \"Mês\").sum()\n",
    "proporcao = (soma[\"ilesos\"]/ soma[\"pessoas\"])\n",
    "feridos = (soma[\"feridos_graves\"]/ soma[\"pessoas\"])\n",
    "proporcão_ilesos_e_feridos_graves2018 = pd.DataFrame([proporcao, feridos], index = [\"Pessoas ilesas\", \"Feridos graves\"]).round(2).transpose()\n",
    "proporcão_ilesos_e_feridos_graves2018"
   ]
  },
  {
   "cell_type": "markdown",
   "id": "2fc2bf5b",
   "metadata": {},
   "source": [
    "**2019**"
   ]
  },
  {
   "cell_type": "code",
   "execution_count": null,
   "id": "310036ad",
   "metadata": {},
   "outputs": [],
   "source": [
    "df2019[\"Mês\"] = pd.to_datetime(df2019[\"data_inversa\"]).dt.month\n",
    "mes2019 = df2019.loc[:, [\"Mês\", \"pessoas\", \"ilesos\", \"feridos_graves\"]]\n",
    "soma = mes2019.groupby(by = \"Mês\").sum()\n",
    "proporcao = (soma[\"ilesos\"]/ soma[\"pessoas\"])\n",
    "feridos = (soma[\"feridos_graves\"]/ soma[\"pessoas\"])\n",
    "proporcão_ilesos_e_feridos_graves2019 = pd.DataFrame([proporcao, feridos], index = [\"Pessoas ilesas\", \"Feridos graves\"]).round(2).transpose()\n",
    "proporcão_ilesos_e_feridos_graves2019"
   ]
  },
  {
   "cell_type": "markdown",
   "id": "79109750",
   "metadata": {},
   "source": [
    "**2020**"
   ]
  },
  {
   "cell_type": "code",
   "execution_count": null,
   "id": "6e354f5f",
   "metadata": {},
   "outputs": [],
   "source": [
    "df2020[\"Mês\"] = pd.to_datetime(df2020[\"data_inversa\"]).dt.month\n",
    "mes2020 = df2020.loc[:, [\"Mês\", \"pessoas\", \"ilesos\", \"feridos_graves\"]]\n",
    "soma = mes2020.groupby(by = \"Mês\").sum()\n",
    "proporcao = (soma[\"ilesos\"]/ soma[\"pessoas\"])\n",
    "feridos = (soma[\"feridos_graves\"]/ soma[\"pessoas\"])\n",
    "proporcão_ilesos_e_feridos_graves2020 = pd.DataFrame([proporcao, feridos], index = [\"Pessoas ilesas\", \"Feridos graves\"]).round(2).transpose()\n",
    "proporcão_ilesos_e_feridos_graves2020"
   ]
  },
  {
   "cell_type": "markdown",
   "id": "ff856880",
   "metadata": {},
   "source": [
    "**2021**"
   ]
  },
  {
   "cell_type": "code",
   "execution_count": null,
   "id": "b049fff7",
   "metadata": {},
   "outputs": [],
   "source": [
    "df2021[\"Mês\"] = pd.to_datetime(df2021[\"data_inversa\"]).dt.month\n",
    "mes2021 = df2021.loc[:, [\"Mês\", \"pessoas\", \"ilesos\", \"feridos_graves\"]]\n",
    "soma = mes2021.groupby(by = \"Mês\").sum()\n",
    "proporcao = (soma[\"ilesos\"]/ soma[\"pessoas\"])\n",
    "feridos = (soma[\"feridos_graves\"]/ soma[\"pessoas\"])\n",
    "proporcão_ilesos_e_feridos_graves2021 = pd.DataFrame([proporcao, feridos], index = [\"Pessoas ilesas\", \"Feridos graves\"]).round(2).transpose()\n",
    "proporcão_ilesos_e_feridos_graves2021"
   ]
  },
  {
   "cell_type": "markdown",
   "id": "e6260dc6",
   "metadata": {},
   "source": [
    "<div class=\"alert alert-block alert-info\">\n",
    "Letra C\n",
    "</div>"
   ]
  },
  {
   "cell_type": "code",
   "execution_count": null,
   "id": "663ee3b3",
   "metadata": {},
   "outputs": [],
   "source": [
    "antes_da_pandemia = len(pd.concat([df2018, df2019]))\n",
    "durante_a_pandemia = len(pd.concat([df2020, df2021]))\n",
    "antes = antes_da_pandemia/2\n",
    "durante = durante_a_pandemia/2\n",
    "\n",
    "diferencia_antes_e_durante = antes - durante"
   ]
  },
  {
   "cell_type": "code",
   "execution_count": null,
   "id": "9e732360",
   "metadata": {},
   "outputs": [],
   "source": [
    "media_incidentes = pd.DataFrame([antes, durante], index = [\"Antes da pandemia\", \"Durante a pandemia\"]).rename(columns = {0: \"Média de incidentes\"})\n",
    "media_incidentes"
   ]
  },
  {
   "cell_type": "markdown",
   "id": "fdd4935f",
   "metadata": {},
   "source": [
    "**Como podemos ver, ouve uma diminuição na incidência de acidentes nas rodovias federais durante a pandemia.**"
   ]
  }
 ],
 "metadata": {
  "kernelspec": {
   "display_name": "Python 3 (ipykernel)",
   "language": "python",
   "name": "python3"
  },
  "language_info": {
   "codemirror_mode": {
    "name": "ipython",
    "version": 3
   },
   "file_extension": ".py",
   "mimetype": "text/x-python",
   "name": "python",
   "nbconvert_exporter": "python",
   "pygments_lexer": "ipython3",
   "version": "3.9.7"
  }
 },
 "nbformat": 4,
 "nbformat_minor": 5
}
